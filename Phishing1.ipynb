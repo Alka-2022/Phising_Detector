{
 "cells": [
  {
   "cell_type": "code",
   "execution_count": 7,
   "metadata": {
    "id": "kt_S1hpZSVek"
   },
   "outputs": [
    {
     "output_type": "error",
     "ename": "ModuleNotFoundError",
     "evalue": "No module named 'pandas'",
     "traceback": [
      "\u001b[1;31m---------------------------------------------------------------------------\u001b[0m",
      "\u001b[1;31mModuleNotFoundError\u001b[0m                       Traceback (most recent call last)",
      "\u001b[1;32m<ipython-input-7-b8c7b3b4d245>\u001b[0m in \u001b[0;36m<module>\u001b[1;34m\u001b[0m\n\u001b[1;32m----> 1\u001b[1;33m \u001b[1;32mimport\u001b[0m \u001b[0mpandas\u001b[0m \u001b[1;32mas\u001b[0m \u001b[0mpd\u001b[0m\u001b[1;33m\u001b[0m\u001b[1;33m\u001b[0m\u001b[0m\n\u001b[0m\u001b[0;32m      2\u001b[0m \u001b[1;32mimport\u001b[0m \u001b[0mnumpy\u001b[0m \u001b[1;32mas\u001b[0m \u001b[0mnp\u001b[0m\u001b[1;33m\u001b[0m\u001b[1;33m\u001b[0m\u001b[0m\n\u001b[0;32m      3\u001b[0m \u001b[1;33m\u001b[0m\u001b[0m\n\u001b[0;32m      4\u001b[0m \u001b[1;32mimport\u001b[0m \u001b[0mmatplotlib\u001b[0m\u001b[1;33m.\u001b[0m\u001b[0mpyplot\u001b[0m \u001b[1;32mas\u001b[0m \u001b[0mplt\u001b[0m\u001b[1;33m\u001b[0m\u001b[1;33m\u001b[0m\u001b[0m\n\u001b[0;32m      5\u001b[0m \u001b[0mget_ipython\u001b[0m\u001b[1;33m(\u001b[0m\u001b[1;33m)\u001b[0m\u001b[1;33m.\u001b[0m\u001b[0mrun_line_magic\u001b[0m\u001b[1;33m(\u001b[0m\u001b[1;34m'matplotlib'\u001b[0m\u001b[1;33m,\u001b[0m \u001b[1;34m'inline'\u001b[0m\u001b[1;33m)\u001b[0m\u001b[1;33m\u001b[0m\u001b[1;33m\u001b[0m\u001b[0m\n",
      "\u001b[1;31mModuleNotFoundError\u001b[0m: No module named 'pandas'"
     ]
    }
   ],
   "source": [
    "import pandas as pd\n",
    "import numpy as np\n",
    "\n",
    "import matplotlib.pyplot as plt\n",
    "%matplotlib inline\n",
    "import seaborn as sns"
   ]
  },
  {
   "cell_type": "code",
   "execution_count": 3,
   "metadata": {
    "id": "2dDGWsN0T1bv"
   },
   "outputs": [
    {
     "output_type": "error",
     "ename": "NameError",
     "evalue": "name 'pd' is not defined",
     "traceback": [
      "\u001b[1;31m---------------------------------------------------------------------------\u001b[0m",
      "\u001b[1;31mNameError\u001b[0m                                 Traceback (most recent call last)",
      "\u001b[1;32m<ipython-input-3-d5a13d70f673>\u001b[0m in \u001b[0;36m<module>\u001b[1;34m\u001b[0m\n\u001b[1;32m----> 1\u001b[1;33m \u001b[0mdf\u001b[0m \u001b[1;33m=\u001b[0m \u001b[0mpd\u001b[0m\u001b[1;33m.\u001b[0m\u001b[0mread_csv\u001b[0m\u001b[1;33m(\u001b[0m\u001b[1;34m\"C:\\\\Users\\\\HP\\\\Downloads\\\\phising.xls\"\u001b[0m\u001b[1;33m)\u001b[0m\u001b[1;33m\u001b[0m\u001b[1;33m\u001b[0m\u001b[0m\n\u001b[0m",
      "\u001b[1;31mNameError\u001b[0m: name 'pd' is not defined"
     ]
    }
   ],
   "source": [
    "df = pd.read_csv(\"C:\\\\Users\\\\HP\\\\Downloads\\\\phising.xls\")"
   ]
  },
  {
   "cell_type": "code",
   "execution_count": 4,
   "metadata": {
    "colab": {
     "base_uri": "https://localhost:8080/"
    },
    "id": "_SDKuF4KSVeq",
    "outputId": "8a88532d-bff8-4bec-b816-fda43f642ea6"
   },
   "outputs": [
    {
     "output_type": "error",
     "ename": "NameError",
     "evalue": "name 'df' is not defined",
     "traceback": [
      "\u001b[1;31m---------------------------------------------------------------------------\u001b[0m",
      "\u001b[1;31mNameError\u001b[0m                                 Traceback (most recent call last)",
      "\u001b[1;32m<ipython-input-4-a74c58233b9e>\u001b[0m in \u001b[0;36m<module>\u001b[1;34m\u001b[0m\n\u001b[1;32m----> 1\u001b[1;33m \u001b[0mdf\u001b[0m\u001b[1;33m.\u001b[0m\u001b[0minfo\u001b[0m\u001b[1;33m(\u001b[0m\u001b[1;33m)\u001b[0m\u001b[1;33m\u001b[0m\u001b[1;33m\u001b[0m\u001b[0m\n\u001b[0m",
      "\u001b[1;31mNameError\u001b[0m: name 'df' is not defined"
     ]
    }
   ],
   "source": [
    "df.info()"
   ]
  },
  {
   "cell_type": "code",
   "execution_count": 111,
   "metadata": {
    "colab": {
     "base_uri": "https://localhost:8080/",
     "height": 245
    },
    "id": "OEBoZ2q0SVes",
    "outputId": "085bc7d9-9dcd-497d-e8b3-552eb09d432d"
   },
   "outputs": [
    {
     "data": {
      "text/html": [
       "<div>\n",
       "<style scoped>\n",
       "    .dataframe tbody tr th:only-of-type {\n",
       "        vertical-align: middle;\n",
       "    }\n",
       "\n",
       "    .dataframe tbody tr th {\n",
       "        vertical-align: top;\n",
       "    }\n",
       "\n",
       "    .dataframe thead th {\n",
       "        text-align: right;\n",
       "    }\n",
       "</style>\n",
       "<table border=\"1\" class=\"dataframe\">\n",
       "  <thead>\n",
       "    <tr style=\"text-align: right;\">\n",
       "      <th></th>\n",
       "      <th>having_IP_Address</th>\n",
       "      <th>URL_Length</th>\n",
       "      <th>Shortining_Service</th>\n",
       "      <th>having_At_Symbol</th>\n",
       "      <th>double_slash_redirecting</th>\n",
       "      <th>Prefix_Suffix</th>\n",
       "      <th>having_Sub_Domain</th>\n",
       "      <th>SSLfinal_State</th>\n",
       "      <th>Domain_registeration_length</th>\n",
       "      <th>Favicon</th>\n",
       "      <th>...</th>\n",
       "      <th>popUpWidnow</th>\n",
       "      <th>Iframe</th>\n",
       "      <th>age_of_domain</th>\n",
       "      <th>DNSRecord</th>\n",
       "      <th>web_traffic</th>\n",
       "      <th>Page_Rank</th>\n",
       "      <th>Google_Index</th>\n",
       "      <th>Links_pointing_to_page</th>\n",
       "      <th>Statistical_report</th>\n",
       "      <th>Result</th>\n",
       "    </tr>\n",
       "  </thead>\n",
       "  <tbody>\n",
       "    <tr>\n",
       "      <th>0</th>\n",
       "      <td>-1</td>\n",
       "      <td>1</td>\n",
       "      <td>1</td>\n",
       "      <td>1</td>\n",
       "      <td>-1</td>\n",
       "      <td>-1</td>\n",
       "      <td>-1</td>\n",
       "      <td>-1</td>\n",
       "      <td>-1</td>\n",
       "      <td>1</td>\n",
       "      <td>...</td>\n",
       "      <td>1</td>\n",
       "      <td>1</td>\n",
       "      <td>-1</td>\n",
       "      <td>-1</td>\n",
       "      <td>-1</td>\n",
       "      <td>-1</td>\n",
       "      <td>1</td>\n",
       "      <td>1</td>\n",
       "      <td>-1</td>\n",
       "      <td>-1</td>\n",
       "    </tr>\n",
       "    <tr>\n",
       "      <th>1</th>\n",
       "      <td>1</td>\n",
       "      <td>1</td>\n",
       "      <td>1</td>\n",
       "      <td>1</td>\n",
       "      <td>1</td>\n",
       "      <td>-1</td>\n",
       "      <td>0</td>\n",
       "      <td>1</td>\n",
       "      <td>-1</td>\n",
       "      <td>1</td>\n",
       "      <td>...</td>\n",
       "      <td>1</td>\n",
       "      <td>1</td>\n",
       "      <td>-1</td>\n",
       "      <td>-1</td>\n",
       "      <td>0</td>\n",
       "      <td>-1</td>\n",
       "      <td>1</td>\n",
       "      <td>1</td>\n",
       "      <td>1</td>\n",
       "      <td>-1</td>\n",
       "    </tr>\n",
       "    <tr>\n",
       "      <th>2</th>\n",
       "      <td>1</td>\n",
       "      <td>0</td>\n",
       "      <td>1</td>\n",
       "      <td>1</td>\n",
       "      <td>1</td>\n",
       "      <td>-1</td>\n",
       "      <td>-1</td>\n",
       "      <td>-1</td>\n",
       "      <td>-1</td>\n",
       "      <td>1</td>\n",
       "      <td>...</td>\n",
       "      <td>1</td>\n",
       "      <td>1</td>\n",
       "      <td>1</td>\n",
       "      <td>-1</td>\n",
       "      <td>1</td>\n",
       "      <td>-1</td>\n",
       "      <td>1</td>\n",
       "      <td>0</td>\n",
       "      <td>-1</td>\n",
       "      <td>-1</td>\n",
       "    </tr>\n",
       "    <tr>\n",
       "      <th>3</th>\n",
       "      <td>1</td>\n",
       "      <td>0</td>\n",
       "      <td>1</td>\n",
       "      <td>1</td>\n",
       "      <td>1</td>\n",
       "      <td>-1</td>\n",
       "      <td>-1</td>\n",
       "      <td>-1</td>\n",
       "      <td>1</td>\n",
       "      <td>1</td>\n",
       "      <td>...</td>\n",
       "      <td>1</td>\n",
       "      <td>1</td>\n",
       "      <td>-1</td>\n",
       "      <td>-1</td>\n",
       "      <td>1</td>\n",
       "      <td>-1</td>\n",
       "      <td>1</td>\n",
       "      <td>-1</td>\n",
       "      <td>1</td>\n",
       "      <td>-1</td>\n",
       "    </tr>\n",
       "    <tr>\n",
       "      <th>4</th>\n",
       "      <td>1</td>\n",
       "      <td>0</td>\n",
       "      <td>-1</td>\n",
       "      <td>1</td>\n",
       "      <td>1</td>\n",
       "      <td>-1</td>\n",
       "      <td>1</td>\n",
       "      <td>1</td>\n",
       "      <td>-1</td>\n",
       "      <td>1</td>\n",
       "      <td>...</td>\n",
       "      <td>-1</td>\n",
       "      <td>1</td>\n",
       "      <td>-1</td>\n",
       "      <td>-1</td>\n",
       "      <td>0</td>\n",
       "      <td>-1</td>\n",
       "      <td>1</td>\n",
       "      <td>1</td>\n",
       "      <td>1</td>\n",
       "      <td>1</td>\n",
       "    </tr>\n",
       "  </tbody>\n",
       "</table>\n",
       "<p>5 rows × 31 columns</p>\n",
       "</div>"
      ],
      "text/plain": [
       "   having_IP_Address  URL_Length  Shortining_Service  having_At_Symbol  \\\n",
       "0                 -1           1                   1                 1   \n",
       "1                  1           1                   1                 1   \n",
       "2                  1           0                   1                 1   \n",
       "3                  1           0                   1                 1   \n",
       "4                  1           0                  -1                 1   \n",
       "\n",
       "   double_slash_redirecting  Prefix_Suffix  having_Sub_Domain  SSLfinal_State  \\\n",
       "0                        -1             -1                 -1              -1   \n",
       "1                         1             -1                  0               1   \n",
       "2                         1             -1                 -1              -1   \n",
       "3                         1             -1                 -1              -1   \n",
       "4                         1             -1                  1               1   \n",
       "\n",
       "   Domain_registeration_length  Favicon  ...  popUpWidnow  Iframe  \\\n",
       "0                           -1        1  ...            1       1   \n",
       "1                           -1        1  ...            1       1   \n",
       "2                           -1        1  ...            1       1   \n",
       "3                            1        1  ...            1       1   \n",
       "4                           -1        1  ...           -1       1   \n",
       "\n",
       "   age_of_domain  DNSRecord  web_traffic  Page_Rank  Google_Index  \\\n",
       "0             -1         -1           -1         -1             1   \n",
       "1             -1         -1            0         -1             1   \n",
       "2              1         -1            1         -1             1   \n",
       "3             -1         -1            1         -1             1   \n",
       "4             -1         -1            0         -1             1   \n",
       "\n",
       "   Links_pointing_to_page  Statistical_report  Result  \n",
       "0                       1                  -1      -1  \n",
       "1                       1                   1      -1  \n",
       "2                       0                  -1      -1  \n",
       "3                      -1                   1      -1  \n",
       "4                       1                   1       1  \n",
       "\n",
       "[5 rows x 31 columns]"
      ]
     },
     "execution_count": 111,
     "metadata": {},
     "output_type": "execute_result"
    }
   ],
   "source": [
    "df.head()"
   ]
  },
  {
   "cell_type": "code",
   "execution_count": 112,
   "metadata": {
    "colab": {
     "base_uri": "https://localhost:8080/",
     "height": 245
    },
    "id": "8qUwJwwvSVet",
    "outputId": "8364130c-1c78-4674-f235-c558cbfb4ebf"
   },
   "outputs": [
    {
     "data": {
      "text/html": [
       "<div>\n",
       "<style scoped>\n",
       "    .dataframe tbody tr th:only-of-type {\n",
       "        vertical-align: middle;\n",
       "    }\n",
       "\n",
       "    .dataframe tbody tr th {\n",
       "        vertical-align: top;\n",
       "    }\n",
       "\n",
       "    .dataframe thead th {\n",
       "        text-align: right;\n",
       "    }\n",
       "</style>\n",
       "<table border=\"1\" class=\"dataframe\">\n",
       "  <thead>\n",
       "    <tr style=\"text-align: right;\">\n",
       "      <th></th>\n",
       "      <th>having_IP_Address</th>\n",
       "      <th>URL_Length</th>\n",
       "      <th>Shortining_Service</th>\n",
       "      <th>having_At_Symbol</th>\n",
       "      <th>double_slash_redirecting</th>\n",
       "      <th>Prefix_Suffix</th>\n",
       "      <th>having_Sub_Domain</th>\n",
       "      <th>SSLfinal_State</th>\n",
       "      <th>Domain_registeration_length</th>\n",
       "      <th>Favicon</th>\n",
       "      <th>...</th>\n",
       "      <th>popUpWidnow</th>\n",
       "      <th>Iframe</th>\n",
       "      <th>age_of_domain</th>\n",
       "      <th>DNSRecord</th>\n",
       "      <th>web_traffic</th>\n",
       "      <th>Page_Rank</th>\n",
       "      <th>Google_Index</th>\n",
       "      <th>Links_pointing_to_page</th>\n",
       "      <th>Statistical_report</th>\n",
       "      <th>Result</th>\n",
       "    </tr>\n",
       "  </thead>\n",
       "  <tbody>\n",
       "    <tr>\n",
       "      <th>11050</th>\n",
       "      <td>1</td>\n",
       "      <td>-1</td>\n",
       "      <td>1</td>\n",
       "      <td>-1</td>\n",
       "      <td>1</td>\n",
       "      <td>1</td>\n",
       "      <td>1</td>\n",
       "      <td>1</td>\n",
       "      <td>-1</td>\n",
       "      <td>-1</td>\n",
       "      <td>...</td>\n",
       "      <td>-1</td>\n",
       "      <td>-1</td>\n",
       "      <td>1</td>\n",
       "      <td>1</td>\n",
       "      <td>-1</td>\n",
       "      <td>-1</td>\n",
       "      <td>1</td>\n",
       "      <td>1</td>\n",
       "      <td>1</td>\n",
       "      <td>1</td>\n",
       "    </tr>\n",
       "    <tr>\n",
       "      <th>11051</th>\n",
       "      <td>-1</td>\n",
       "      <td>1</td>\n",
       "      <td>1</td>\n",
       "      <td>-1</td>\n",
       "      <td>-1</td>\n",
       "      <td>-1</td>\n",
       "      <td>1</td>\n",
       "      <td>-1</td>\n",
       "      <td>-1</td>\n",
       "      <td>-1</td>\n",
       "      <td>...</td>\n",
       "      <td>-1</td>\n",
       "      <td>1</td>\n",
       "      <td>1</td>\n",
       "      <td>1</td>\n",
       "      <td>1</td>\n",
       "      <td>1</td>\n",
       "      <td>1</td>\n",
       "      <td>-1</td>\n",
       "      <td>1</td>\n",
       "      <td>-1</td>\n",
       "    </tr>\n",
       "    <tr>\n",
       "      <th>11052</th>\n",
       "      <td>1</td>\n",
       "      <td>-1</td>\n",
       "      <td>1</td>\n",
       "      <td>1</td>\n",
       "      <td>1</td>\n",
       "      <td>-1</td>\n",
       "      <td>1</td>\n",
       "      <td>-1</td>\n",
       "      <td>-1</td>\n",
       "      <td>1</td>\n",
       "      <td>...</td>\n",
       "      <td>1</td>\n",
       "      <td>1</td>\n",
       "      <td>1</td>\n",
       "      <td>1</td>\n",
       "      <td>1</td>\n",
       "      <td>-1</td>\n",
       "      <td>1</td>\n",
       "      <td>0</td>\n",
       "      <td>1</td>\n",
       "      <td>-1</td>\n",
       "    </tr>\n",
       "    <tr>\n",
       "      <th>11053</th>\n",
       "      <td>-1</td>\n",
       "      <td>-1</td>\n",
       "      <td>1</td>\n",
       "      <td>1</td>\n",
       "      <td>1</td>\n",
       "      <td>-1</td>\n",
       "      <td>-1</td>\n",
       "      <td>-1</td>\n",
       "      <td>1</td>\n",
       "      <td>-1</td>\n",
       "      <td>...</td>\n",
       "      <td>-1</td>\n",
       "      <td>1</td>\n",
       "      <td>1</td>\n",
       "      <td>1</td>\n",
       "      <td>1</td>\n",
       "      <td>-1</td>\n",
       "      <td>1</td>\n",
       "      <td>1</td>\n",
       "      <td>1</td>\n",
       "      <td>-1</td>\n",
       "    </tr>\n",
       "    <tr>\n",
       "      <th>11054</th>\n",
       "      <td>-1</td>\n",
       "      <td>-1</td>\n",
       "      <td>1</td>\n",
       "      <td>1</td>\n",
       "      <td>1</td>\n",
       "      <td>-1</td>\n",
       "      <td>-1</td>\n",
       "      <td>-1</td>\n",
       "      <td>1</td>\n",
       "      <td>1</td>\n",
       "      <td>...</td>\n",
       "      <td>1</td>\n",
       "      <td>1</td>\n",
       "      <td>-1</td>\n",
       "      <td>1</td>\n",
       "      <td>-1</td>\n",
       "      <td>-1</td>\n",
       "      <td>-1</td>\n",
       "      <td>1</td>\n",
       "      <td>-1</td>\n",
       "      <td>-1</td>\n",
       "    </tr>\n",
       "  </tbody>\n",
       "</table>\n",
       "<p>5 rows × 31 columns</p>\n",
       "</div>"
      ],
      "text/plain": [
       "       having_IP_Address  URL_Length  Shortining_Service  having_At_Symbol  \\\n",
       "11050                  1          -1                   1                -1   \n",
       "11051                 -1           1                   1                -1   \n",
       "11052                  1          -1                   1                 1   \n",
       "11053                 -1          -1                   1                 1   \n",
       "11054                 -1          -1                   1                 1   \n",
       "\n",
       "       double_slash_redirecting  Prefix_Suffix  having_Sub_Domain  \\\n",
       "11050                         1              1                  1   \n",
       "11051                        -1             -1                  1   \n",
       "11052                         1             -1                  1   \n",
       "11053                         1             -1                 -1   \n",
       "11054                         1             -1                 -1   \n",
       "\n",
       "       SSLfinal_State  Domain_registeration_length  Favicon  ...  popUpWidnow  \\\n",
       "11050               1                           -1       -1  ...           -1   \n",
       "11051              -1                           -1       -1  ...           -1   \n",
       "11052              -1                           -1        1  ...            1   \n",
       "11053              -1                            1       -1  ...           -1   \n",
       "11054              -1                            1        1  ...            1   \n",
       "\n",
       "       Iframe  age_of_domain  DNSRecord  web_traffic  Page_Rank  Google_Index  \\\n",
       "11050      -1              1          1           -1         -1             1   \n",
       "11051       1              1          1            1          1             1   \n",
       "11052       1              1          1            1         -1             1   \n",
       "11053       1              1          1            1         -1             1   \n",
       "11054       1             -1          1           -1         -1            -1   \n",
       "\n",
       "       Links_pointing_to_page  Statistical_report  Result  \n",
       "11050                       1                   1       1  \n",
       "11051                      -1                   1      -1  \n",
       "11052                       0                   1      -1  \n",
       "11053                       1                   1      -1  \n",
       "11054                       1                  -1      -1  \n",
       "\n",
       "[5 rows x 31 columns]"
      ]
     },
     "execution_count": 112,
     "metadata": {},
     "output_type": "execute_result"
    }
   ],
   "source": [
    "df.tail()"
   ]
  },
  {
   "cell_type": "code",
   "execution_count": 113,
   "metadata": {},
   "outputs": [],
   "source": [
    "df.drop(['on_mouseover','RightClick','popUpWidnow','Iframe'],axis = 1,inplace = True)"
   ]
  },
  {
   "cell_type": "code",
   "execution_count": 114,
   "metadata": {},
   "outputs": [],
   "source": [
    "df.drop(['port','double_slash_redirecting','Shortining_Service','Abnormal_URL','Statistical_report','Redirect','having_At_Symbol','Submitting_to_email','Favicon'],axis = 1,inplace = True)"
   ]
  },
  {
   "cell_type": "code",
   "execution_count": 115,
   "metadata": {
    "colab": {
     "base_uri": "https://localhost:8080/"
    },
    "id": "TIne4DAeSVeu",
    "outputId": "d75ea76e-ede0-4aa2-fcb5-6d94fcf6d326"
   },
   "outputs": [
    {
     "name": "stdout",
     "output_type": "stream",
     "text": [
      "<class 'pandas.core.frame.DataFrame'>\n",
      "RangeIndex: 11055 entries, 0 to 11054\n",
      "Data columns (total 18 columns):\n",
      " #   Column                       Non-Null Count  Dtype\n",
      "---  ------                       --------------  -----\n",
      " 0   having_IP_Address            11055 non-null  int64\n",
      " 1   URL_Length                   11055 non-null  int64\n",
      " 2   Prefix_Suffix                11055 non-null  int64\n",
      " 3   having_Sub_Domain            11055 non-null  int64\n",
      " 4   SSLfinal_State               11055 non-null  int64\n",
      " 5   Domain_registeration_length  11055 non-null  int64\n",
      " 6   HTTPS_token                  11055 non-null  int64\n",
      " 7   Request_URL                  11055 non-null  int64\n",
      " 8   URL_of_Anchor                11055 non-null  int64\n",
      " 9   Links_in_tags                11055 non-null  int64\n",
      " 10  SFH                          11055 non-null  int64\n",
      " 11  age_of_domain                11055 non-null  int64\n",
      " 12  DNSRecord                    11055 non-null  int64\n",
      " 13  web_traffic                  11055 non-null  int64\n",
      " 14  Page_Rank                    11055 non-null  int64\n",
      " 15  Google_Index                 11055 non-null  int64\n",
      " 16  Links_pointing_to_page       11055 non-null  int64\n",
      " 17  Result                       11055 non-null  int64\n",
      "dtypes: int64(18)\n",
      "memory usage: 1.5 MB\n"
     ]
    }
   ],
   "source": [
    "df.info()"
   ]
  },
  {
   "cell_type": "code",
   "execution_count": 117,
   "metadata": {},
   "outputs": [
    {
     "data": {
      "text/plain": [
       "Index(['having_IP_Address', 'URL_Length', 'Prefix_Suffix', 'having_Sub_Domain',\n",
       "       'SSLfinal_State', 'Domain_registeration_length', 'HTTPS_token',\n",
       "       'Request_URL', 'URL_of_Anchor', 'Links_in_tags', 'SFH', 'age_of_domain',\n",
       "       'DNSRecord', 'web_traffic', 'Page_Rank', 'Google_Index',\n",
       "       'Links_pointing_to_page', 'Result'],\n",
       "      dtype='object')"
      ]
     },
     "execution_count": 117,
     "metadata": {},
     "output_type": "execute_result"
    }
   ],
   "source": [
    "df.columns"
   ]
  },
  {
   "cell_type": "code",
   "execution_count": 118,
   "metadata": {
    "colab": {
     "base_uri": "https://localhost:8080/",
     "height": 400
    },
    "id": "p7hKGdbRSVev",
    "outputId": "ab2fdf3f-86da-475a-8480-011b6e8f3235",
    "scrolled": false
   },
   "outputs": [
    {
     "name": "stdout",
     "output_type": "stream",
     "text": [
      " 1    6157\n",
      "-1    4898\n",
      "Name: Result, dtype: int64\n"
     ]
    },
    {
     "name": "stderr",
     "output_type": "stream",
     "text": [
      "C:\\ProgramData\\Anaconda3\\lib\\site-packages\\seaborn\\_decorators.py:36: FutureWarning: Pass the following variable as a keyword arg: x. From version 0.12, the only valid positional argument will be `data`, and passing other arguments without an explicit keyword will result in an error or misinterpretation.\n",
      "  warnings.warn(\n"
     ]
    },
    {
     "data": {
      "text/plain": [
       "<AxesSubplot:xlabel='Result', ylabel='count'>"
      ]
     },
     "execution_count": 118,
     "metadata": {},
     "output_type": "execute_result"
    },
    {
     "data": {
      "image/png": "[encoded data removed]",
      "text/plain": [
       "<Figure size 432x288 with 1 Axes>"
      ]
     },
     "metadata": {
      "needs_background": "light"
     },
     "output_type": "display_data"
    }
   ],
   "source": [
    "print(df['Result'].value_counts())\n",
    "sns.countplot(df['Result'])"
   ]
  },
  {
   "cell_type": "code",
   "execution_count": 119,
   "metadata": {
    "colab": {
     "base_uri": "https://localhost:8080/"
    },
    "id": "-38grUJ1SVew",
    "outputId": "408f8e3f-b541-4c5f-9868-c48dac2e2fcb"
   },
   "outputs": [
    {
     "name": "stdout",
     "output_type": "stream",
     "text": [
      "(11055, 18)\n",
      "(11055, 17)\n",
      "(11055, 1)\n"
     ]
    }
   ],
   "source": [
    "x = df.iloc[ : , :-1].values\n",
    "y = df.iloc[:, -1:].values\n",
    "print (df.shape)\n",
    "print (x.shape)\n",
    "print (y.shape)"
   ]
  },
  {
   "cell_type": "code",
   "execution_count": 120,
   "metadata": {
    "id": "XB-Vg4XgSVex"
   },
   "outputs": [],
   "source": [
    "from sklearn.model_selection import train_test_split"
   ]
  },
  {
   "cell_type": "code",
   "execution_count": 121,
   "metadata": {
    "id": "qwvv4hc5SVey"
   },
   "outputs": [],
   "source": [
    "x_train, x_test, y_train, y_test = train_test_split(x,y,test_size = 0.25, random_state = 42 )"
   ]
  },
  {
   "cell_type": "code",
   "execution_count": 122,
   "metadata": {
    "id": "UAmo8eRCSVez"
   },
   "outputs": [],
   "source": [
    "from sklearn.model_selection import GridSearchCV"
   ]
  },
  {
   "cell_type": "code",
   "execution_count": 123,
   "metadata": {
    "id": "5hEnQibCSVez"
   },
   "outputs": [],
   "source": [
    "parameters = [{'n_estimators': [100,700], 'max_features': ['sqrt','log2']}]"
   ]
  },
  {
   "cell_type": "code",
   "execution_count": 124,
   "metadata": {
    "colab": {
     "base_uri": "https://localhost:8080/"
    },
    "id": "Wwba44kXSVe0",
    "outputId": "61268c5f-0c97-46f4-a091-8667b80fcd40"
   },
   "outputs": [
    {
     "data": {
      "text/plain": [
       "GridSearchCV(cv=5, estimator=RandomForestClassifier(), n_jobs=-1,\n",
       "             param_grid=[{'max_features': ['sqrt', 'log2'],\n",
       "                          'n_estimators': [100, 700]}])"
      ]
     },
     "execution_count": 124,
     "metadata": {},
     "output_type": "execute_result"
    }
   ],
   "source": [
    "from sklearn.ensemble import RandomForestClassifier\n",
    "grid_search = GridSearchCV(RandomForestClassifier(), parameters,cv =5, n_jobs= -1)\n",
    "grid_search.fit(x_train, y_train.ravel())"
   ]
  },
  {
   "cell_type": "code",
   "execution_count": 125,
   "metadata": {
    "colab": {
     "base_uri": "https://localhost:8080/"
    },
    "id": "wdEA4O_HSVe1",
    "outputId": "ee0fc04b-7ecd-40c3-f5c3-4c8e1aec18a0"
   },
   "outputs": [
    {
     "name": "stdout",
     "output_type": "stream",
     "text": [
      "Best Accurancy =0.9687609566127225\n",
      "best parameters ={'max_features': 'log2', 'n_estimators': 700}\n"
     ]
    }
   ],
   "source": [
    "print(\"Best Accurancy =\" +str( grid_search.best_score_))\n",
    "print(\"best parameters =\" + str(grid_search.best_params_))"
   ]
  },
  {
   "cell_type": "code",
   "execution_count": 126,
   "metadata": {
    "colab": {
     "base_uri": "https://localhost:8080/"
    },
    "id": "sJeml12GSVe2",
    "outputId": "21411915-4892-4fbf-95ff-eb03a433f9e9"
   },
   "outputs": [
    {
     "data": {
      "text/plain": [
       "RandomForestClassifier(max_features='log2', n_estimators=700, random_state=0)"
      ]
     },
     "execution_count": 126,
     "metadata": {},
     "output_type": "execute_result"
    }
   ],
   "source": [
    "classifier = RandomForestClassifier(n_estimators = 700, max_features = 'log2', random_state = 0)\n",
    "classifier.fit(x_train, y_train.ravel())"
   ]
  },
  {
   "cell_type": "code",
   "execution_count": 127,
   "metadata": {
    "id": "yoh2YFarSVe2"
   },
   "outputs": [],
   "source": [
    "y_pred = classifier.predict(x_test)"
   ]
  },
  {
   "cell_type": "code",
   "execution_count": 128,
   "metadata": {
    "colab": {
     "base_uri": "https://localhost:8080/"
    },
    "id": "3qEbQ-bVSVe3",
    "outputId": "b2f3ad86-3875-461e-bd56-2366d9018e20"
   },
   "outputs": [
    {
     "data": {
      "text/plain": [
       "array([-1, -1, -1, ...,  1,  1, -1], dtype=int64)"
      ]
     },
     "execution_count": 128,
     "metadata": {},
     "output_type": "execute_result"
    }
   ],
   "source": [
    "y_pred\n"
   ]
  },
  {
   "cell_type": "code",
   "execution_count": 129,
   "metadata": {
    "colab": {
     "base_uri": "https://localhost:8080/"
    },
    "id": "pGOfoRC4SVe4",
    "outputId": "1a8818e7-0b03-4215-fd33-70b40c95c19d"
   },
   "outputs": [
    {
     "data": {
      "text/plain": [
       "(2764,)"
      ]
     },
     "execution_count": 129,
     "metadata": {},
     "output_type": "execute_result"
    }
   ],
   "source": [
    "y_pred.shape"
   ]
  },
  {
   "cell_type": "code",
   "execution_count": 130,
   "metadata": {
    "colab": {
     "base_uri": "https://localhost:8080/"
    },
    "id": "o4z5hwrWSVe5",
    "outputId": "afb5224b-8827-443a-bd6b-caa7ee7ede2f"
   },
   "outputs": [
    {
     "name": "stdout",
     "output_type": "stream",
     "text": [
      "[[1121   62]\n",
      " [  35 1546]]\n"
     ]
    }
   ],
   "source": [
    "from sklearn.metrics import confusion_matrix \n",
    "cm = confusion_matrix(y_test, y_pred) \n",
    "print(cm)"
   ]
  },
  {
   "cell_type": "code",
   "execution_count": 131,
   "metadata": {
    "id": "nw6A07wMSVe6"
   },
   "outputs": [],
   "source": [
    "names = df.iloc[:,:-1].columns\n",
    "importances =classifier.feature_importances_\n",
    "sorted_importances = sorted(importances, reverse=True)\n",
    "indices = np.argsort(-importances)\n",
    "var_imp = pd.DataFrame(sorted_importances, names[indices], columns=['importance'])\n"
   ]
  },
  {
   "cell_type": "code",
   "execution_count": 133,
   "metadata": {
    "colab": {
     "base_uri": "https://localhost:8080/",
     "height": 1000
    },
    "id": "0NtMD_HeSVe7",
    "outputId": "1d6fa8d2-df02-4f4f-9f45-cb467665d990",
    "scrolled": false
   },
   "outputs": [
    {
     "data": {
      "image/png": "[encoded data removed]",
      "text/plain": [
       "<Figure size 1800x1800 with 1 Axes>"
      ]
     },
     "metadata": {
      "needs_background": "light"
     },
     "output_type": "display_data"
    }
   ],
   "source": [
    "plt.title(\"Variable Importances\")\n",
    "plt.rcParams[\"figure.figsize\"]=(25,25)\n",
    "plt.barh(np.arange(len(names)), sorted_importances, height = 0.7)\n",
    "plt.yticks(np.arange(len(names)), names[indices], fontsize=20)\n",
    "plt.xlabel('Relative Importance')\n",
    "plt.tight_layout()\n",
    "plt.show()"
   ]
  },
  {
   "cell_type": "code",
   "execution_count": 134,
   "metadata": {
    "id": "BP7eRO2MSVe8"
   },
   "outputs": [],
   "source": [
    "import joblib"
   ]
  },
  {
   "cell_type": "code",
   "execution_count": 135,
   "metadata": {
    "colab": {
     "base_uri": "https://localhost:8080/"
    },
    "id": "gjiBUVFuSVe8",
    "outputId": "cfead388-a9b6-4a0a-d97f-4f889491d0ac"
   },
   "outputs": [
    {
     "data": {
      "text/plain": [
       "['final.pkl']"
      ]
     },
     "execution_count": 135,
     "metadata": {},
     "output_type": "execute_result"
    }
   ],
   "source": [
    "joblib.dump(classifier,\"final.pkl\")"
   ]
  },
  {
   "cell_type": "code",
   "execution_count": 136,
   "metadata": {
    "id": "2CaexHBISVe-"
   },
   "outputs": [],
   "source": [
    "import re\n",
    "import ssl\n",
    "import socket\n",
    "from bs4 import BeautifulSoup\n",
    "import urllib.request\n",
    "import datetime\n",
    "import requests\n",
    "import tldextract\n",
    "import whois"
   ]
  },
  {
   "cell_type": "code",
   "execution_count": 137,
   "metadata": {
    "id": "Ickn8wiVSVe-"
   },
   "outputs": [],
   "source": [
    "try:\n",
    "    response = requests.get(url)\n",
    "except:\n",
    "    response = \"\""
   ]
  },
  {
   "cell_type": "code",
   "execution_count": 138,
   "metadata": {
    "id": "nWVTGmOxSVe_"
   },
   "outputs": [],
   "source": [
    "def url_having_ip(url):\n",
    "# using regular function\n",
    "    symbol = re.findall(r'(http((s)?)://)((((\\d)+).)*)((\\w)+)(/((\\w)+))?',url)\n",
    "    print(symbol)\n",
    "    if(len(symbol)!=0):\n",
    "        having_ip = 1    #phishing\n",
    "    else:\n",
    "        having_ip = -1   #legitimate\n",
    "    return(having_ip)\n",
    "# return 0"
   ]
  },
  {
   "cell_type": "code",
   "execution_count": 139,
   "metadata": {
    "colab": {
     "base_uri": "https://localhost:8080/"
    },
    "id": "Z__OdK_NBPrO",
    "outputId": "ad67f6e0-2740-42fa-ba66-e5b86f1a1f80"
   },
   "outputs": [
    {
     "name": "stdout",
     "output_type": "stream",
     "text": [
      "[('https://', 's', 's', '', '', '', '', 'www', 'w', '', '', '')]\n"
     ]
    },
    {
     "data": {
      "text/plain": [
       "1"
      ]
     },
     "execution_count": 139,
     "metadata": {},
     "output_type": "execute_result"
    }
   ],
   "source": [
    "url = \"https://www.w3schools.com/\"\n",
    "urlhi = url_having_ip(url)\n",
    "urlhi"
   ]
  },
  {
   "cell_type": "code",
   "execution_count": 140,
   "metadata": {
    "id": "1noOrbp1SVfA"
   },
   "outputs": [],
   "source": [
    "def url_length(url):\n",
    "    length=len(url)\n",
    "    if(length<54):\n",
    "        return -1\n",
    "    elif(54<=length<=75):\n",
    "        return 0\n",
    "    else:\n",
    "        return 1"
   ]
  },
  {
   "cell_type": "code",
   "execution_count": 141,
   "metadata": {
    "colab": {
     "base_uri": "https://localhost:8080/"
    },
    "id": "dtVmsEsYHRX-",
    "outputId": "fcbd5196-94f5-4168-c385-befa9c42c3be"
   },
   "outputs": [
    {
     "data": {
      "text/plain": [
       "-1"
      ]
     },
     "execution_count": 141,
     "metadata": {},
     "output_type": "execute_result"
    }
   ],
   "source": [
    "urll = url_length(url)\n",
    "urll"
   ]
  },
  {
   "cell_type": "code",
   "execution_count": 51,
   "metadata": {
    "id": "ci7Y7zVISVfA"
   },
   "outputs": [],
   "source": [
    "#def url_short(url):\n",
    " #   if re.findall(\"goo.gl|bit.ly\", url):\n",
    "  #      return 1\n",
    "   # else:\n",
    "    #    return -1"
   ]
  },
  {
   "cell_type": "code",
   "execution_count": 52,
   "metadata": {
    "id": "rvgUMejvSVfB"
   },
   "outputs": [],
   "source": [
    "#def having_at_symbol(url):\n",
    " #   symbol=re.findall(r'@',url)\n",
    "  #  if(len(symbol)==0):\n",
    "   #     return -1\n",
    "    #else:\n",
    "     #   return 1"
   ]
  },
  {
   "cell_type": "code",
   "execution_count": 53,
   "metadata": {
    "id": "9MbniRJ2SVfC"
   },
   "outputs": [],
   "source": [
    "#def doubleSlash(url):\n",
    " #   if(url.count('//') > 1):\n",
    "  #      return 1\n",
    "   # else:\n",
    "    #    return -1"
   ]
  },
  {
   "cell_type": "code",
   "execution_count": 142,
   "metadata": {
    "id": "W1BFTsf1SVfD"
   },
   "outputs": [],
   "source": [
    "def prefix_suffix(url):\n",
    "    subDomain, domain, suffix = tldextract.extract(url)\n",
    "    print(subDomain)\n",
    "    if(domain.count('-')):\n",
    "        return 1\n",
    "    else:\n",
    "        return -1"
   ]
  },
  {
   "cell_type": "code",
   "execution_count": 143,
   "metadata": {
    "colab": {
     "base_uri": "https://localhost:8080/"
    },
    "id": "JJq7c13zLbFP",
    "outputId": "d2e5977b-eff9-4abd-d3c8-2c6a16918a5c"
   },
   "outputs": [
    {
     "name": "stdout",
     "output_type": "stream",
     "text": [
      "www\n"
     ]
    },
    {
     "data": {
      "text/plain": [
       "1"
      ]
     },
     "execution_count": 143,
     "metadata": {},
     "output_type": "execute_result"
    }
   ],
   "source": [
    "pre_suf = prefix_suffix(\"https://www.w3-schools.com/\")\n",
    "pre_suf"
   ]
  },
  {
   "cell_type": "code",
   "execution_count": 144,
   "metadata": {
    "id": "gVORszjdSVfD"
   },
   "outputs": [],
   "source": [
    "def sub_domain(url):\n",
    "    subDomain, domain, suffix = tldextract.extract(url)\n",
    "    print(url.count('.'))\n",
    "    if(url.count('.')<=3):\n",
    "        return -1\n",
    "    elif(url.count('.')==4):\n",
    "        return 0\n",
    "    else:\n",
    "        return 1"
   ]
  },
  {
   "cell_type": "code",
   "execution_count": 145,
   "metadata": {
    "colab": {
     "base_uri": "https://localhost:8080/"
    },
    "id": "id2Mn605yVm0",
    "outputId": "94f9fa07-5bfc-447d-f745-6f33365ba923"
   },
   "outputs": [
    {
     "name": "stdout",
     "output_type": "stream",
     "text": [
      "5\n"
     ]
    },
    {
     "data": {
      "text/plain": [
       "1"
      ]
     },
     "execution_count": 145,
     "metadata": {},
     "output_type": "execute_result"
    }
   ],
   "source": [
    "sub_domain(\"https://www.kaggle.co.ac.in.ee/\")"
   ]
  },
  {
   "cell_type": "code",
   "execution_count": 146,
   "metadata": {
    "id": "I18-G8BTSVfE"
   },
   "outputs": [],
   "source": [
    "def SSLfinal_State(url):\n",
    "    try:\n",
    "#check wheather contains https\n",
    "        if(re.search('^https',url)):\n",
    "            usehttps = 1\n",
    "        else:\n",
    "            usehttps = 0\n",
    "#getting the certificate issuer to later compare with trusted issuer\n",
    "#getting host name\n",
    "        subDomain, domain, suffix = tldextract.extract(url) \n",
    "        host_name = domain + \".\" + suffix \n",
    "        context = ssl.create_default_context()\n",
    "        sct = context.wrap_socket(socket.socket(), server_hostname = host_name)\n",
    "        sct.connect((host_name, 443))\n",
    "        certificate = sct.getpeercert()\n",
    "        issuer = dict(x[0] for x in certificate['issuer'])\n",
    "        certificate_Auth = str(issuer['commonName'])\n",
    "        certificate_Auth = certificate_Auth.split()\n",
    "        if(certificate_Auth[0] == \"Network\" or certificate_Auth == \"Deutsche\"):\n",
    "            certificate_Auth = certificate_Auth[0] + \" \" + certificate_Auth[1]\n",
    "        else:\n",
    "            certificate_Auth = certificate_Auth[0]\n",
    "            trusted_Auth =['Comodo','Symantec','GoDaddy','GlobalSign','DigiCert','Go','StartCom','Entrust','Verizon','Trustwave','Unizeto','Buypass','QuoVadis','Deutsche Telekom','NetworkSolutions','SwissSign','IdenTrust','Secom','TWCA','GeoTrust','Thawte','Doster','VeriSign','RapidSSL','Saymantec']\n",
    "#getting age of certificate\n",
    "        startingDate = str(certificate['notBefore'])\n",
    "        endingDate = str(certificate['notAfter'])\n",
    "        startingYear = int(startingDate.split()[3])\n",
    "        endingYear = int(endingDate.split()[3])\n",
    "        Age_of_certificate = endingYear-startingYear    #checking final conditions\n",
    "        print( Age_of_certificate)\n",
    "        if((usehttps==1) and (certificate_Auth in trusted_Auth) and (Age_of_certificate>=1) ):\n",
    "            return -1 #legitimate\n",
    "        elif((usehttps==1) and (certificate_Auth not in trusted_Auth)):\n",
    "            return 0 #suspicious\n",
    "        else:\n",
    "            return 1 #phishing\n",
    "    except Exception as e:\n",
    "       return 1"
   ]
  },
  {
   "cell_type": "code",
   "execution_count": 147,
   "metadata": {
    "colab": {
     "base_uri": "https://localhost:8080/"
    },
    "id": "HJdAC-mpGhHE",
    "outputId": "ef9d5c31-fedd-48de-fa0a-a9a4bd3ace93"
   },
   "outputs": [
    {
     "name": "stdout",
     "output_type": "stream",
     "text": [
      "1\n"
     ]
    },
    {
     "data": {
      "text/plain": [
       "-1"
      ]
     },
     "execution_count": 147,
     "metadata": {},
     "output_type": "execute_result"
    }
   ],
   "source": [
    "s = SSLfinal_State(\"https://cocoriverorganics.com/\")\n",
    "s"
   ]
  },
  {
   "cell_type": "code",
   "execution_count": 148,
   "metadata": {
    "id": "oT5egQxOSVfF"
   },
   "outputs": [],
   "source": [
    "def domain_registration(url):\n",
    "  try:\n",
    "        w = whois.whois(url)\n",
    "        updated = w.updated_date\n",
    "        exp = w.expiration_date\n",
    "        length = (exp[0]-updated[0]).days\n",
    "        if(length<=365):\n",
    "            return 1\n",
    "        else:\n",
    "            return -1\n",
    "  except:\n",
    "     return 0\n",
    "    "
   ]
  },
  {
   "cell_type": "code",
   "execution_count": 149,
   "metadata": {
    "colab": {
     "base_uri": "https://localhost:8080/"
    },
    "id": "ry9lORxgWbbr",
    "outputId": "ecb773bb-aa0c-40f2-8117-a19daad7c609"
   },
   "outputs": [
    {
     "data": {
      "text/plain": [
       "0"
      ]
     },
     "execution_count": 149,
     "metadata": {},
     "output_type": "execute_result"
    }
   ],
   "source": [
    "domain_registration(\"https://pandas.pydata.org/pandas-docs/stable/reference/api/pandas.DataFrame.drop.html\")"
   ]
  },
  {
   "cell_type": "code",
   "execution_count": 62,
   "metadata": {
    "id": "BY3HW9aSSVfG"
   },
   "outputs": [],
   "source": [
    "#def favicon(url):\n",
    " #   return 0\n",
    "#def port(url):\n",
    " #   return 0"
   ]
  },
  {
   "cell_type": "code",
   "execution_count": 150,
   "metadata": {
    "id": "LDHgoo_pSVfH"
   },
   "outputs": [],
   "source": [
    "def https_token(url):\n",
    "    subDomain, domain, suffix = tldextract.extract(url) \n",
    "    host =subDomain +'.' + domain + '.' + suffix\n",
    "    print(subDomain)\n",
    "    print(host)\n",
    "    if(host.count('https')): #attacker can trick by putting https in domain part \n",
    "        return 1\n",
    "    else:\n",
    "        return -1\n"
   ]
  },
  {
   "cell_type": "code",
   "execution_count": 151,
   "metadata": {
    "colab": {
     "base_uri": "https://localhost:8080/"
    },
    "id": "F9d7CwB6fp8L",
    "outputId": "8893087a-2061-467b-fe70-e2037964bf37"
   },
   "outputs": [
    {
     "name": "stdout",
     "output_type": "stream",
     "text": [
      "www\n",
      "www.cocoriverorganics.com\n"
     ]
    },
    {
     "data": {
      "text/plain": [
       "-1"
      ]
     },
     "execution_count": 151,
     "metadata": {},
     "output_type": "execute_result"
    }
   ],
   "source": [
    "https_token(\"https://www.cocoriverorganics.com/\")"
   ]
  },
  {
   "cell_type": "code",
   "execution_count": 152,
   "metadata": {
    "id": "NG_rRPgOSVfH"
   },
   "outputs": [],
   "source": [
    "def request_url(url):\n",
    "    try:\n",
    "        subDomain, domain, suffix = tldextract.extract(url)\n",
    "        print(domain)\n",
    "        websiteDomain = domain\n",
    "        opener = urllib.request.urlopen(url).read()\n",
    "        soup = BeautifulSoup(opener, 'lxml')\n",
    "        imgs = soup.findAll('img', src=True)\n",
    "        total = len(imgs)\n",
    "        linked_to_same = 0\n",
    "        avg =0\n",
    "        for image in imgs:\n",
    "            subDomain, domain, suffix = tldextract.extract(image['src'])\n",
    "            imageDomain = domain\n",
    "            if(websiteDomain==imageDomain or imageDomain==''):\n",
    "                linked_to_same = linked_to_same + 1 \n",
    "        vids = soup.findAll('video', src=True) \n",
    "        total = total + len(vids)\n",
    "        for video in vids:\n",
    "            subDomain, domain, suffix = tldextract.extract(video['src'])\n",
    "            vidDomain = domain\n",
    "            if(websiteDomain==vidDomain or vidDomain==''):\n",
    "                linked_to_same = linked_to_same + 1 \n",
    "        linked_outside = total-linked_to_same \n",
    "        if(total!=0):\n",
    "            avg = linked_outside/total\n",
    "        if(avg<0.22):\n",
    "            return -1\n",
    "        elif(0.22<=avg<=0.61):\n",
    "            return 0\n",
    "        else:\n",
    "            return 1\n",
    "    except:\n",
    "        return 0"
   ]
  },
  {
   "cell_type": "code",
   "execution_count": 153,
   "metadata": {
    "colab": {
     "base_uri": "https://localhost:8080/"
    },
    "id": "Pw9YoUxDilEg",
    "outputId": "39705a24-932a-4614-b3a4-7a6420b22850"
   },
   "outputs": [
    {
     "name": "stdout",
     "output_type": "stream",
     "text": [
      "udemy\n"
     ]
    },
    {
     "data": {
      "text/plain": [
       "0"
      ]
     },
     "execution_count": 153,
     "metadata": {},
     "output_type": "execute_result"
    }
   ],
   "source": [
    "request_url(\"https://www.udemy.com/course/deep-learning-tensorflow-2/\")"
   ]
  },
  {
   "cell_type": "code",
   "execution_count": 154,
   "metadata": {
    "id": "KGFcfbbvSVfI"
   },
   "outputs": [],
   "source": [
    "def url_of_anchor(url):\n",
    "    try:\n",
    "        subDomain, domain, suffix = tldextract.extract(url)\n",
    "        websiteDomain = domain\n",
    "        print(domain)\n",
    "        opener = urllib.request.urlopen(url).read()\n",
    "        soup = BeautifulSoup(opener, 'lxml')\n",
    "        anchors = soup.findAll('a', href=True)\n",
    "        total = len(anchors)\n",
    "        print(total)\n",
    "        linked_to_same = 0\n",
    "        avg = 0\n",
    "        for anchor in anchors:\n",
    "            subDomain, domain, suffix = tldextract.extract(anchor['href'])\n",
    "            print(domain)\n",
    "            anchorDomain = domain\n",
    "            if(websiteDomain==anchorDomain or anchorDomain==''):\n",
    "                linked_to_same = linked_to_same + 1 \n",
    "        linked_outside = total-linked_to_same \n",
    "        if(total!=0):\n",
    "            avg = linked_outside/total\n",
    "            print(avg)\n",
    "        if(avg<0.31):\n",
    "            return -1\n",
    "        elif(0.31<=avg<=0.67):\n",
    "            return 0\n",
    "        else:\n",
    "            return 1\n",
    "    except:\n",
    "        return 0"
   ]
  },
  {
   "cell_type": "code",
   "execution_count": 155,
   "metadata": {
    "colab": {
     "base_uri": "https://localhost:8080/"
    },
    "id": "rsWRS9YtmIoH",
    "outputId": "af81afba-6679-4123-c26d-c4db8a5bebfb"
   },
   "outputs": [
    {
     "name": "stdout",
     "output_type": "stream",
     "text": [
      "youtube\n",
      "14\n",
      "\n",
      "\n",
      "youtube\n",
      "youtube\n",
      "youtube\n",
      "\n",
      "youtube\n",
      "youtube\n",
      "google\n",
      "\n",
      "google\n",
      "youtube\n",
      "youtube\n",
      "\n",
      "0.14285714285714285\n"
     ]
    },
    {
     "data": {
      "text/plain": [
       "-1"
      ]
     },
     "execution_count": 155,
     "metadata": {},
     "output_type": "execute_result"
    }
   ],
   "source": [
    "url_of_anchor(\"https://www.youtube.com/\")"
   ]
  },
  {
   "cell_type": "code",
   "execution_count": 156,
   "metadata": {
    "id": "2Tj7HwT6SVfJ"
   },
   "outputs": [],
   "source": [
    "def Links_in_tags(url):\n",
    "    try:\n",
    "        opener = urllib.request.urlopen(url).read()\n",
    "        print(\"Helo\")\n",
    "        soup = BeautifulSoup(opener, 'lxml')\n",
    "        no_of_meta =0\n",
    "        no_of_link =0\n",
    "        no_of_script =0\n",
    "        anchors=0\n",
    "        avg =0\n",
    "        for meta in soup.find_all('meta'):\n",
    "            no_of_meta = no_of_meta+1\n",
    "        for link in soup.find_all('link'):\n",
    "            no_of_link = no_of_link +1\n",
    "        for script in soup.find_all('script'):\n",
    "            no_of_script = no_of_script+1\n",
    "        for anchor in soup.find_all('a'):\n",
    "            anchors = anchors+1\n",
    "        total = no_of_meta + no_of_link + no_of_script+anchors \n",
    "        tags = no_of_meta + no_of_link + no_of_script \n",
    "        print(total)\n",
    "        print(tags)\n",
    "        if(total!=0):\n",
    "            avg = tags/total\n",
    "            print(avg)\n",
    "        if(avg<0.17):\n",
    "            return -1\n",
    "        elif(0.17<=avg<=0.81):\n",
    "            return 0\n",
    "        else:\n",
    "            return 1\n",
    "    except:\n",
    "        return 0"
   ]
  },
  {
   "cell_type": "code",
   "execution_count": 70,
   "metadata": {
    "colab": {
     "base_uri": "https://localhost:8080/"
    },
    "id": "KxNAtAoKuDA9",
    "outputId": "625f23e6-aca0-4454-a302-f397bd4ae2ff"
   },
   "outputs": [
    {
     "data": {
      "text/plain": [
       "0"
      ]
     },
     "execution_count": 70,
     "metadata": {},
     "output_type": "execute_result"
    }
   ],
   "source": [
    "Links_in_tags(\"https://www.google.com/search?q=phiscoop+dataset&rlz=1C1CHBF_enIN858IN858&sxsrf=ALeKk01VlXAZHB4nITn5OlwgZBuxguThVQ:1620974827874&source=lnms&tbm=isch&sa=X&ved=2ahUKEwj-lLjmycjwAhVn4zgGHbzMBBsQ_AUoAXoECAEQAw&biw=1536&bih=722\")"
   ]
  },
  {
   "cell_type": "code",
   "execution_count": 157,
   "metadata": {
    "id": "aeaXtrjJSVfK"
   },
   "outputs": [],
   "source": [
    "def sfh(url):\n",
    "    return 0"
   ]
  },
  {
   "cell_type": "code",
   "execution_count": 72,
   "metadata": {
    "id": "I-BEE0WSSVfL"
   },
   "outputs": [],
   "source": [
    "#def email_submit(url):\n",
    " #   try:\n",
    "  #      opener = urllib.request.urlopen(url).read() \n",
    "   #     soup = BeautifulSoup(opener, 'lxml') \n",
    "    #    if(soup.find('mailto:')):\n",
    "     #       return 1\n",
    "      #  else:\n",
    "       #     return -1\n",
    "    #except:\n",
    "     #   return 0"
   ]
  },
  {
   "cell_type": "code",
   "execution_count": 73,
   "metadata": {
    "id": "M1eQYPxMSVfL"
   },
   "outputs": [],
   "source": [
    "#def abnormal_url(url):\n",
    " #   return 0\n",
    "#def redirect(url):\n",
    "#    return 0"
   ]
  },
  {
   "cell_type": "code",
   "execution_count": 53,
   "metadata": {
    "id": "Fin6eFvcSVfM"
   },
   "outputs": [],
   "source": [
    "#def on_mouseover(url):\n",
    " #   if re.findall(\"<script>.+onmouseover.+</script>\", response.text):\n",
    "  #      return 1\n",
    "   # else:\n",
    "    #    return -1"
   ]
  },
  {
   "cell_type": "code",
   "execution_count": 54,
   "metadata": {
    "id": "OAVLeRW-SVfN"
   },
   "outputs": [],
   "source": [
    "#def rightClick(url):\n",
    " #   if re.findall(r\"event.button ?== ?2\", response.text):\n",
    "  #      return 1\n",
    "   # else:\n",
    "    #    return -1"
   ]
  },
  {
   "cell_type": "code",
   "execution_count": 55,
   "metadata": {
    "id": "_gQfcRxoSVfO"
   },
   "outputs": [],
   "source": [
    "#def popup(url):\n",
    " #   if re.findall(r\"alert\\(\", response.text):\n",
    "  #      return 1\n",
    "   # else:\n",
    "    #    return -1\n"
   ]
  },
  {
   "cell_type": "code",
   "execution_count": 56,
   "metadata": {
    "id": "oAOk_2KDSVfP"
   },
   "outputs": [],
   "source": [
    "#def iframe(url):\n",
    " #   if re.findall(r\"[<iframe>|<frameBorder>]\", response.text):\n",
    "  #      return 1\n",
    "   # else:\n",
    "    #    return -1"
   ]
  },
  {
   "cell_type": "code",
   "execution_count": 158,
   "metadata": {
    "id": "WUeJyq-DSVfQ"
   },
   "outputs": [],
   "source": [
    "def age_of_domain(url):\n",
    "    try:\n",
    "        w = whois.whois(url)\n",
    "        start_date = w.creation_date\n",
    "        current_date = datetime.datetime.now() \n",
    "        age =(current_date-start_date[0]).days \n",
    "        if(age>=180):\n",
    "            return -1\n",
    "        else:\n",
    "            return 1\n",
    "    except Exception as e:\n",
    "        print(e)\n",
    "        return 0"
   ]
  },
  {
   "cell_type": "code",
   "execution_count": 159,
   "metadata": {
    "id": "L19NwbV9SVfR"
   },
   "outputs": [],
   "source": [
    "#the below modules are not possible as the google has removed the api for google page_rank and other indexing system\n",
    "#therefore 0 has been inserted as default values.\n",
    "def dns(url):\n",
    "    return 0\n",
    "def web_traffic(url):\n",
    "    return 0\n",
    "def page_rank(url):\n",
    "#Not possible\n",
    "    return 0\n",
    "def google_index(url):\n",
    "#Not possible\n",
    "    return 0\n",
    "def links_pointing(url):\n",
    "#Not possible\n",
    "    return 0\n",
    "#def statistical(url):\n",
    "#Not possible\n",
    " #   return 0"
   ]
  },
  {
   "cell_type": "code",
   "execution_count": 247,
   "metadata": {
    "colab": {
     "base_uri": "https://localhost:8080/"
    },
    "id": "Lp0bIGiVuIUt",
    "outputId": "648395fb-9d8f-4bf6-c2be-d24a6473fea8",
    "scrolled": true
   },
   "outputs": [
    {
     "name": "stdout",
     "output_type": "stream",
     "text": [
      "Welcome to the phishing website detection software ! \n",
      "\n",
      "\n",
      "Enter url:\n",
      "\n",
      "myuniversity.edu/renewal\n"
     ]
    }
   ],
   "source": [
    "print(\"Welcome to the phishing website detection software ! \\n\\n\")\n",
    "print(\"Enter url:\\n\")\n",
    "url = input()"
   ]
  },
  {
   "cell_type": "code",
   "execution_count": 248,
   "metadata": {
    "colab": {
     "base_uri": "https://localhost:8080/"
    },
    "id": "cFppzCuPssV2",
    "outputId": "f5215727-fa62-4622-f768-ccede761ee92"
   },
   "outputs": [
    {
     "name": "stdout",
     "output_type": "stream",
     "text": [
      "[]\n",
      "\n",
      "1\n",
      "\n",
      ".myuniversity.edu\n",
      "myuniversity\n",
      "myuniversity\n",
      "'NoneType' object is not subscriptable\n",
      "(17,)\n",
      "(1, 17)\n"
     ]
    }
   ],
   "source": [
    "a1=url_having_ip(url)\n",
    "a2=url_length(url)\n",
    "a6=prefix_suffix(url)\n",
    "a7=sub_domain(url)\n",
    "a8=SSLfinal_State(url)\n",
    "a9=domain_registration(url)\n",
    "a12=https_token(url)\n",
    "a13=request_url(url)\n",
    "a14=url_of_anchor(url)\n",
    "a15=Links_in_tags(url)\n",
    "a16=sfh(url)\n",
    "a24=age_of_domain(url)\n",
    "a25=dns(url)\n",
    "a26=web_traffic(url)\n",
    "a27=page_rank(url)\n",
    "a28=google_index(url)\n",
    "a29=links_pointing(url)\n",
    "check=[a1,a2,a6,a7,a8,a9,a12,a13,a14,a15,a16,a24,a25,a26,a27,a28,a29]\n",
    "check_array=np.array(check)\n",
    "print(check_array.shape)\n",
    "ch=check_array.reshape(1,17)\n",
    "print(ch.shape)"
   ]
  },
  {
   "cell_type": "code",
   "execution_count": 249,
   "metadata": {
    "colab": {
     "base_uri": "https://localhost:8080/"
    },
    "id": "x_RIqQIwt4Dk",
    "outputId": "620aad2d-6764-4306-a486-dcde821f02cf"
   },
   "outputs": [
    {
     "name": "stdout",
     "output_type": "stream",
     "text": [
      "[1]\n"
     ]
    }
   ],
   "source": [
    "pred = classifier.predict(ch)\n",
    "print(pred)"
   ]
  },
  {
   "cell_type": "code",
   "execution_count": 250,
   "metadata": {},
   "outputs": [
    {
     "name": "stdout",
     "output_type": "stream",
     "text": [
      "The site is a phishing site\n"
     ]
    }
   ],
   "source": [
    "if(pred == 1):\n",
    "    print(\"The site is a phishing site\")\n",
    "else:\n",
    "    print(\"The site is not a phishing site\")"
   ]
  },
  {
   "cell_type": "code",
   "execution_count": null,
   "metadata": {},
   "outputs": [],
   "source": []
  }
 ],
 "metadata": {
  "colab": {
   "collapsed_sections": [],
   "name": "Phishing_2.ipynb",
   "provenance": [],
   "toc_visible": true
  },
  "kernelspec": {
   "name": "python391jvsc74a57bd0055a73c04a614fa600d4113906876bcc6b1100e88b8e6d9d4532529d8602bd9d",
   "display_name": "Python 3.9.1 64-bit"
  },
  "language_info": {
   "codemirror_mode": {
    "name": "ipython",
    "version": 3
   },
   "file_extension": ".py",
   "mimetype": "text/x-python",
   "name": "python",
   "nbconvert_exporter": "python",
   "pygments_lexer": "ipython3",
   "version": "3.9.1"
  }
 },
 "nbformat": 4,
 "nbformat_minor": 1
}